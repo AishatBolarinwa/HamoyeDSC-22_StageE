{
 "cells": [
  {
   "cell_type": "markdown",
   "id": "ca4d2c18",
   "metadata": {},
   "source": [
    "# Data Curation and Web Scraping Project: Hamoye DSC SUMMER '22\n"
   ]
  },
  {
   "cell_type": "markdown",
   "id": "1b4fb164",
   "metadata": {},
   "source": [
    "### Project: Scraping multiple pages on Amazon's e-commerce platform for books."
   ]
  },
  {
   "cell_type": "markdown",
   "id": "5a878189",
   "metadata": {},
   "source": [
    ">**Amazon** is a popular e-commerce platform where books are sold.In this project, we will unravel what type of books were bought frequently, between 2009 and 2019. To find this, we will juxtapose between the number of books displayed for sale, and the type of books bought frequently by consumers. \n",
    "\n",
    "Click [here]('https://www.amazon.com/s?k=amazon+shopping+online&rh=n%3A283155&dc&adgrpid=84486094307&gclid=CjwKCAjwwab7BRBAEiwAapqpTDYtTN8aym2q_rlYn1VdmofKw0_bzkd6xjaCl8cMY4syjbPZMKNMjxoCLIYQAvD_BwE&hvadid=393524136919&hvdev=c&hvlocphy=1010294&hvnetw=g&hvqmt=b&hvrand=2170543926145783317&hvtargid=kwd-469356929&hydadcr=22365_10729094&qid=1600780278&rnid=2941120011&tag=hydglogoo-20&ref=sr_nr_n_10')  to see Amazon's e-commerce platform for books."
   ]
  },
  {
   "cell_type": "code",
   "execution_count": 1,
   "id": "675098ab",
   "metadata": {},
   "outputs": [],
   "source": [
    "#Importing the packages required for the analysis\n",
    "\n",
    "import numpy as np\n",
    "import pandas as pd\n",
    "import io\n",
    "import matplotlib.pyplot as plt\n",
    "import seaborn as sns\n",
    "from datetime import datetime\n",
    "%matplotlib inline"
   ]
  },
  {
   "cell_type": "code",
   "execution_count": 2,
   "id": "6dc02fa4",
   "metadata": {},
   "outputs": [],
   "source": [
    "#Importing the libraries required to scrape the dataset.\n",
    "\n",
    "from bs4 import BeautifulSoup\n",
    "import requests\n",
    "import glob\n",
    "import os\n",
    "os.chdir(r'\\Users\\Pc\\Desktop\\My Jupyter\\Hamoye')"
   ]
  },
  {
   "cell_type": "code",
   "execution_count": 3,
   "id": "895ef0cc",
   "metadata": {},
   "outputs": [],
   "source": [
    "#Scraping the amazon website\n",
    "\n",
    "def get_books(year):\n",
    "    '''to get the top 30 books for each year'''\n",
    "        \n",
    "    url =f\"https://www.amazon.com/gp/bestsellers/{year}/books\"\n",
    "\n",
    "    headers = {\"User-Agent\": \"Mozilla/5.0 (Windows NT 10.0; Win64; x64)\"\n",
    "               \"AppleWebKit/537.36 (KHTML, like Gecko) Chrome/106.0.0.0 Safari/537.36\",\n",
    "               \"Accept-Encoding\":\"gzip, deflate\",\n",
    "               \"Accept\":\"text/html,application/xhtml+xml,application/xml;q=0.9,*/*;q=0.8\", \n",
    "               \"DNT\":\"1\",\"Connection\":\"close\", \"Upgrade-Insecure-Requests\":\"1\"}\n",
    "\n",
    "    page = requests.get(url,headers = headers)\n",
    "    soup =BeautifulSoup(page.content, 'html.parser')\n",
    "\n",
    "    #get all books\n",
    "\n",
    "    books = soup.find_all(id = 'gridItemRoot')\n",
    "    \n",
    "    return books"
   ]
  },
  {
   "cell_type": "code",
   "execution_count": 4,
   "id": "8c68186c",
   "metadata": {},
   "outputs": [],
   "source": [
    "#Extracting nescessary information from the website\n",
    "\n",
    "def get_dir(book,year): \n",
    "    '''to get the details of each book for each''' \n",
    "    \n",
    "    import numpy as np\n",
    "    '''to get the name of price'''\n",
    "\n",
    "    try:\n",
    "        price = book.find('span',class_=\"_cDEzb_p13n-sc-price_3mJ9Z\").text[1:]\n",
    "    except Exception as e:\n",
    "        price = np.nan\n",
    "    try:\n",
    "        ranks = book.find('span', class_='zg-bdg-text').text[1:]\n",
    "    except Exception as e:\n",
    "        ranks = np.nan\n",
    "    try:\n",
    "        title = book.find('div',class_=\"_cDEzb_p13n-sc-css-line-clamp-1_1Fn1y\").text\n",
    "    except Exception as e:\n",
    "        title = np.nan\n",
    "    try:\n",
    "        ratings= book.find('span',class_=\"a-icon-alt\").text[:3] \n",
    "    except Exception as e:\n",
    "        ratings = np.nan\n",
    "    try:\n",
    "        no_of_reviews  = book.find('span',class_=\"a-size-small\").text\n",
    "    except Exception as e:\n",
    "        no_of_reviews = np.nan\n",
    "    try:\n",
    "        author = book.find('a',class_=\"a-size-small a-link-child\").text\n",
    "    except Exception as e:\n",
    "        author = np.nan\n",
    "    year = year\n",
    "    return [price,ranks,title,no_of_reviews,ratings,author, year]"
   ]
  },
  {
   "cell_type": "code",
   "execution_count": 5,
   "id": "ff7f9a25",
   "metadata": {},
   "outputs": [],
   "source": [
    "def get_data(books, year):\n",
    "    '''to get a list of dictionary for details of each book for the top_30 books'''\n",
    "    data = [get_dir(book,year) for book in books]\n",
    "    return data"
   ]
  },
  {
   "cell_type": "code",
   "execution_count": 6,
   "id": "e749a4bf",
   "metadata": {},
   "outputs": [],
   "source": [
    "def get_dict(data,year):\n",
    "    '''to get a list of dictionaries for the top_30 books for each year'''\n",
    "\n",
    "    df_list = []       \n",
    "\n",
    "    for book in data:\n",
    "\n",
    "        df_list.append( {'year': book[6],\n",
    "                         'price':book[0],\n",
    "                         'ranks':book[1],\n",
    "                         'title':book[2],\n",
    "                         'no_of_reviews':book[3],\n",
    "                         'ratings':book[4],\n",
    "                         'author':book[5]})\n",
    "    return df_list"
   ]
  },
  {
   "cell_type": "code",
   "execution_count": 7,
   "id": "497785d6",
   "metadata": {},
   "outputs": [],
   "source": [
    "def df(year):\n",
    "    y = get_dict(get_data(get_books(year),year), year)\n",
    "    return y"
   ]
  },
  {
   "cell_type": "code",
   "execution_count": 8,
   "id": "bbeea22c",
   "metadata": {},
   "outputs": [],
   "source": [
    "#Getting data for the years 2009 to 2019\n",
    "\n",
    "years = [str(i) for i in range(2009,2020)]\n",
    "for year in years:\n",
    "    data = pd.DataFrame(df(year), columns = ['year',\n",
    "                             'price',\n",
    "                             'ranks',\n",
    "                             'title',\n",
    "                             'no_of_reviews',\n",
    "                             'ratings',\n",
    "                             'author'])\n",
    "    \n",
    "    data.to_csv(f'{year}_top30_books.csv')"
   ]
  },
  {
   "cell_type": "code",
   "execution_count": 9,
   "id": "312f1193",
   "metadata": {},
   "outputs": [
    {
     "name": "stderr",
     "output_type": "stream",
     "text": [
      "C:\\Users\\Pc\\AppData\\Local\\Temp\\ipykernel_8612\\1486731357.py:7: FutureWarning: The frame.append method is deprecated and will be removed from pandas in a future version. Use pandas.concat instead.\n",
      "  master_df = master_df.append(pd.read_csv(file))\n",
      "C:\\Users\\Pc\\AppData\\Local\\Temp\\ipykernel_8612\\1486731357.py:7: FutureWarning: The frame.append method is deprecated and will be removed from pandas in a future version. Use pandas.concat instead.\n",
      "  master_df = master_df.append(pd.read_csv(file))\n",
      "C:\\Users\\Pc\\AppData\\Local\\Temp\\ipykernel_8612\\1486731357.py:7: FutureWarning: The frame.append method is deprecated and will be removed from pandas in a future version. Use pandas.concat instead.\n",
      "  master_df = master_df.append(pd.read_csv(file))\n",
      "C:\\Users\\Pc\\AppData\\Local\\Temp\\ipykernel_8612\\1486731357.py:7: FutureWarning: The frame.append method is deprecated and will be removed from pandas in a future version. Use pandas.concat instead.\n",
      "  master_df = master_df.append(pd.read_csv(file))\n",
      "C:\\Users\\Pc\\AppData\\Local\\Temp\\ipykernel_8612\\1486731357.py:7: FutureWarning: The frame.append method is deprecated and will be removed from pandas in a future version. Use pandas.concat instead.\n",
      "  master_df = master_df.append(pd.read_csv(file))\n",
      "C:\\Users\\Pc\\AppData\\Local\\Temp\\ipykernel_8612\\1486731357.py:7: FutureWarning: The frame.append method is deprecated and will be removed from pandas in a future version. Use pandas.concat instead.\n",
      "  master_df = master_df.append(pd.read_csv(file))\n",
      "C:\\Users\\Pc\\AppData\\Local\\Temp\\ipykernel_8612\\1486731357.py:7: FutureWarning: The frame.append method is deprecated and will be removed from pandas in a future version. Use pandas.concat instead.\n",
      "  master_df = master_df.append(pd.read_csv(file))\n",
      "C:\\Users\\Pc\\AppData\\Local\\Temp\\ipykernel_8612\\1486731357.py:7: FutureWarning: The frame.append method is deprecated and will be removed from pandas in a future version. Use pandas.concat instead.\n",
      "  master_df = master_df.append(pd.read_csv(file))\n",
      "C:\\Users\\Pc\\AppData\\Local\\Temp\\ipykernel_8612\\1486731357.py:7: FutureWarning: The frame.append method is deprecated and will be removed from pandas in a future version. Use pandas.concat instead.\n",
      "  master_df = master_df.append(pd.read_csv(file))\n",
      "C:\\Users\\Pc\\AppData\\Local\\Temp\\ipykernel_8612\\1486731357.py:7: FutureWarning: The frame.append method is deprecated and will be removed from pandas in a future version. Use pandas.concat instead.\n",
      "  master_df = master_df.append(pd.read_csv(file))\n",
      "C:\\Users\\Pc\\AppData\\Local\\Temp\\ipykernel_8612\\1486731357.py:7: FutureWarning: The frame.append method is deprecated and will be removed from pandas in a future version. Use pandas.concat instead.\n",
      "  master_df = master_df.append(pd.read_csv(file))\n"
     ]
    }
   ],
   "source": [
    "#Combining all data into one single file\n",
    "\n",
    "master_df = pd.DataFrame()\n",
    "\n",
    "for file in os.listdir(os.getcwd()) :\n",
    "    if file.endswith('.csv') :\n",
    "        master_df = master_df.append(pd.read_csv(file))\n",
    "        \n",
    "master_df.to_csv('Amazon book data.csv', index= False)"
   ]
  },
  {
   "cell_type": "code",
   "execution_count": 10,
   "id": "58f4ff57",
   "metadata": {},
   "outputs": [
    {
     "data": {
      "text/html": [
       "<div>\n",
       "<style scoped>\n",
       "    .dataframe tbody tr th:only-of-type {\n",
       "        vertical-align: middle;\n",
       "    }\n",
       "\n",
       "    .dataframe tbody tr th {\n",
       "        vertical-align: top;\n",
       "    }\n",
       "\n",
       "    .dataframe thead th {\n",
       "        text-align: right;\n",
       "    }\n",
       "</style>\n",
       "<table border=\"1\" class=\"dataframe\">\n",
       "  <thead>\n",
       "    <tr style=\"text-align: right;\">\n",
       "      <th></th>\n",
       "      <th>Unnamed: 0</th>\n",
       "      <th>year</th>\n",
       "      <th>price</th>\n",
       "      <th>ranks</th>\n",
       "      <th>title</th>\n",
       "      <th>no_of_reviews</th>\n",
       "      <th>ratings</th>\n",
       "      <th>author</th>\n",
       "    </tr>\n",
       "  </thead>\n",
       "  <tbody>\n",
       "    <tr>\n",
       "      <th>0</th>\n",
       "      <td>0</td>\n",
       "      <td>2009</td>\n",
       "      <td>14.71</td>\n",
       "      <td>1</td>\n",
       "      <td>The Lost Symbol</td>\n",
       "      <td>16,136</td>\n",
       "      <td>4.4</td>\n",
       "      <td>Dan Brown</td>\n",
       "    </tr>\n",
       "    <tr>\n",
       "      <th>1</th>\n",
       "      <td>1</td>\n",
       "      <td>2009</td>\n",
       "      <td>10.04</td>\n",
       "      <td>2</td>\n",
       "      <td>The Shack: Where Tragedy Confronts Eternity</td>\n",
       "      <td>23,402</td>\n",
       "      <td>4.7</td>\n",
       "      <td>William P. Young</td>\n",
       "    </tr>\n",
       "    <tr>\n",
       "      <th>2</th>\n",
       "      <td>2</td>\n",
       "      <td>2009</td>\n",
       "      <td>14.98</td>\n",
       "      <td>3</td>\n",
       "      <td>Liberty and Tyranny: A Conservative Manifesto</td>\n",
       "      <td>5,037</td>\n",
       "      <td>4.8</td>\n",
       "      <td>Mark R. Levin</td>\n",
       "    </tr>\n",
       "    <tr>\n",
       "      <th>3</th>\n",
       "      <td>3</td>\n",
       "      <td>2009</td>\n",
       "      <td>14.30</td>\n",
       "      <td>4</td>\n",
       "      <td>Breaking Dawn (The Twilight Saga, Book 4)</td>\n",
       "      <td>16,930</td>\n",
       "      <td>4.7</td>\n",
       "      <td>Stephenie Meyer</td>\n",
       "    </tr>\n",
       "    <tr>\n",
       "      <th>4</th>\n",
       "      <td>4</td>\n",
       "      <td>2009</td>\n",
       "      <td>10.00</td>\n",
       "      <td>5</td>\n",
       "      <td>Going Rogue: An American Life</td>\n",
       "      <td>1,572</td>\n",
       "      <td>4.6</td>\n",
       "      <td>Sarah Palin</td>\n",
       "    </tr>\n",
       "  </tbody>\n",
       "</table>\n",
       "</div>"
      ],
      "text/plain": [
       "   Unnamed: 0  year  price  ranks  \\\n",
       "0           0  2009  14.71      1   \n",
       "1           1  2009  10.04      2   \n",
       "2           2  2009  14.98      3   \n",
       "3           3  2009  14.30      4   \n",
       "4           4  2009  10.00      5   \n",
       "\n",
       "                                           title no_of_reviews  ratings  \\\n",
       "0                                The Lost Symbol        16,136      4.4   \n",
       "1    The Shack: Where Tragedy Confronts Eternity        23,402      4.7   \n",
       "2  Liberty and Tyranny: A Conservative Manifesto         5,037      4.8   \n",
       "3      Breaking Dawn (The Twilight Saga, Book 4)        16,930      4.7   \n",
       "4                  Going Rogue: An American Life         1,572      4.6   \n",
       "\n",
       "             author  \n",
       "0         Dan Brown  \n",
       "1  William P. Young  \n",
       "2     Mark R. Levin  \n",
       "3   Stephenie Meyer  \n",
       "4       Sarah Palin  "
      ]
     },
     "execution_count": 10,
     "metadata": {},
     "output_type": "execute_result"
    }
   ],
   "source": [
    "#Loading the data for analysis\n",
    "\n",
    "df = pd.read_csv('Amazon book data.csv')\n",
    "df.head()"
   ]
  },
  {
   "cell_type": "code",
   "execution_count": 11,
   "id": "071bb9c4",
   "metadata": {
    "scrolled": true
   },
   "outputs": [
    {
     "data": {
      "text/plain": [
       "(330, 8)"
      ]
     },
     "execution_count": 11,
     "metadata": {},
     "output_type": "execute_result"
    }
   ],
   "source": [
    "df.shape"
   ]
  },
  {
   "cell_type": "markdown",
   "id": "b4b3558b",
   "metadata": {},
   "source": [
    "There are 330 rows in this data as expected from the 30 rows over 11 years ie from 2009 to 2019"
   ]
  },
  {
   "cell_type": "code",
   "execution_count": 12,
   "id": "6785c06a",
   "metadata": {},
   "outputs": [
    {
     "data": {
      "text/plain": [
       "Index(['Unnamed: 0', 'year', 'price', 'ranks', 'title', 'no_of_reviews',\n",
       "       'ratings', 'author'],\n",
       "      dtype='object')"
      ]
     },
     "execution_count": 12,
     "metadata": {},
     "output_type": "execute_result"
    }
   ],
   "source": [
    "df.columns"
   ]
  },
  {
   "cell_type": "markdown",
   "id": "06e340d5",
   "metadata": {},
   "source": [
    "There is a column that is not needed and we will drop that."
   ]
  },
  {
   "cell_type": "code",
   "execution_count": 13,
   "id": "e9ff5c4e",
   "metadata": {},
   "outputs": [
    {
     "data": {
      "text/html": [
       "<div>\n",
       "<style scoped>\n",
       "    .dataframe tbody tr th:only-of-type {\n",
       "        vertical-align: middle;\n",
       "    }\n",
       "\n",
       "    .dataframe tbody tr th {\n",
       "        vertical-align: top;\n",
       "    }\n",
       "\n",
       "    .dataframe thead th {\n",
       "        text-align: right;\n",
       "    }\n",
       "</style>\n",
       "<table border=\"1\" class=\"dataframe\">\n",
       "  <thead>\n",
       "    <tr style=\"text-align: right;\">\n",
       "      <th></th>\n",
       "      <th>year</th>\n",
       "      <th>price</th>\n",
       "      <th>ranks</th>\n",
       "      <th>title</th>\n",
       "      <th>no_of_reviews</th>\n",
       "      <th>ratings</th>\n",
       "      <th>author</th>\n",
       "    </tr>\n",
       "  </thead>\n",
       "  <tbody>\n",
       "    <tr>\n",
       "      <th>0</th>\n",
       "      <td>2009</td>\n",
       "      <td>14.71</td>\n",
       "      <td>1</td>\n",
       "      <td>The Lost Symbol</td>\n",
       "      <td>16,136</td>\n",
       "      <td>4.4</td>\n",
       "      <td>Dan Brown</td>\n",
       "    </tr>\n",
       "    <tr>\n",
       "      <th>1</th>\n",
       "      <td>2009</td>\n",
       "      <td>10.04</td>\n",
       "      <td>2</td>\n",
       "      <td>The Shack: Where Tragedy Confronts Eternity</td>\n",
       "      <td>23,402</td>\n",
       "      <td>4.7</td>\n",
       "      <td>William P. Young</td>\n",
       "    </tr>\n",
       "    <tr>\n",
       "      <th>2</th>\n",
       "      <td>2009</td>\n",
       "      <td>14.98</td>\n",
       "      <td>3</td>\n",
       "      <td>Liberty and Tyranny: A Conservative Manifesto</td>\n",
       "      <td>5,037</td>\n",
       "      <td>4.8</td>\n",
       "      <td>Mark R. Levin</td>\n",
       "    </tr>\n",
       "    <tr>\n",
       "      <th>3</th>\n",
       "      <td>2009</td>\n",
       "      <td>14.30</td>\n",
       "      <td>4</td>\n",
       "      <td>Breaking Dawn (The Twilight Saga, Book 4)</td>\n",
       "      <td>16,930</td>\n",
       "      <td>4.7</td>\n",
       "      <td>Stephenie Meyer</td>\n",
       "    </tr>\n",
       "    <tr>\n",
       "      <th>4</th>\n",
       "      <td>2009</td>\n",
       "      <td>10.00</td>\n",
       "      <td>5</td>\n",
       "      <td>Going Rogue: An American Life</td>\n",
       "      <td>1,572</td>\n",
       "      <td>4.6</td>\n",
       "      <td>Sarah Palin</td>\n",
       "    </tr>\n",
       "    <tr>\n",
       "      <th>...</th>\n",
       "      <td>...</td>\n",
       "      <td>...</td>\n",
       "      <td>...</td>\n",
       "      <td>...</td>\n",
       "      <td>...</td>\n",
       "      <td>...</td>\n",
       "      <td>...</td>\n",
       "    </tr>\n",
       "    <tr>\n",
       "      <th>325</th>\n",
       "      <td>2019</td>\n",
       "      <td>17.44</td>\n",
       "      <td>26</td>\n",
       "      <td>Howard Stern Comes Again</td>\n",
       "      <td>7,962</td>\n",
       "      <td>4.5</td>\n",
       "      <td>Howard Stern</td>\n",
       "    </tr>\n",
       "    <tr>\n",
       "      <th>326</th>\n",
       "      <td>2019</td>\n",
       "      <td>5.90</td>\n",
       "      <td>27</td>\n",
       "      <td>Guts: A Graphic Novel</td>\n",
       "      <td>13,995</td>\n",
       "      <td>4.8</td>\n",
       "      <td>Raina Telgemeier</td>\n",
       "    </tr>\n",
       "    <tr>\n",
       "      <th>327</th>\n",
       "      <td>2019</td>\n",
       "      <td>8.32</td>\n",
       "      <td>28</td>\n",
       "      <td>The Life-Changing Magic of Tidying Up: The Jap...</td>\n",
       "      <td>Marie Kondō</td>\n",
       "      <td>4.5</td>\n",
       "      <td>NaN</td>\n",
       "    </tr>\n",
       "    <tr>\n",
       "      <th>328</th>\n",
       "      <td>2019</td>\n",
       "      <td>21.52</td>\n",
       "      <td>29</td>\n",
       "      <td>Harry Potter and the Goblet of Fire: The Illus...</td>\n",
       "      <td>24,906</td>\n",
       "      <td>4.9</td>\n",
       "      <td>J. K. Rowling</td>\n",
       "    </tr>\n",
       "    <tr>\n",
       "      <th>329</th>\n",
       "      <td>2019</td>\n",
       "      <td>8.72</td>\n",
       "      <td>30</td>\n",
       "      <td>National Geographic Little Kids First Big Book...</td>\n",
       "      <td>17,854</td>\n",
       "      <td>4.8</td>\n",
       "      <td>Amy Shields</td>\n",
       "    </tr>\n",
       "  </tbody>\n",
       "</table>\n",
       "<p>330 rows × 7 columns</p>\n",
       "</div>"
      ],
      "text/plain": [
       "     year  price  ranks                                              title  \\\n",
       "0    2009  14.71      1                                    The Lost Symbol   \n",
       "1    2009  10.04      2        The Shack: Where Tragedy Confronts Eternity   \n",
       "2    2009  14.98      3      Liberty and Tyranny: A Conservative Manifesto   \n",
       "3    2009  14.30      4          Breaking Dawn (The Twilight Saga, Book 4)   \n",
       "4    2009  10.00      5                      Going Rogue: An American Life   \n",
       "..    ...    ...    ...                                                ...   \n",
       "325  2019  17.44     26                           Howard Stern Comes Again   \n",
       "326  2019   5.90     27                              Guts: A Graphic Novel   \n",
       "327  2019   8.32     28  The Life-Changing Magic of Tidying Up: The Jap...   \n",
       "328  2019  21.52     29  Harry Potter and the Goblet of Fire: The Illus...   \n",
       "329  2019   8.72     30  National Geographic Little Kids First Big Book...   \n",
       "\n",
       "    no_of_reviews  ratings            author  \n",
       "0          16,136      4.4         Dan Brown  \n",
       "1          23,402      4.7  William P. Young  \n",
       "2           5,037      4.8     Mark R. Levin  \n",
       "3          16,930      4.7   Stephenie Meyer  \n",
       "4           1,572      4.6       Sarah Palin  \n",
       "..            ...      ...               ...  \n",
       "325         7,962      4.5      Howard Stern  \n",
       "326        13,995      4.8  Raina Telgemeier  \n",
       "327   Marie Kondō      4.5               NaN  \n",
       "328        24,906      4.9     J. K. Rowling  \n",
       "329        17,854      4.8       Amy Shields  \n",
       "\n",
       "[330 rows x 7 columns]"
      ]
     },
     "execution_count": 13,
     "metadata": {},
     "output_type": "execute_result"
    }
   ],
   "source": [
    "df.drop(df.columns[[0]], axis=1, inplace= True)\n",
    "df"
   ]
  },
  {
   "cell_type": "markdown",
   "id": "e8285deb",
   "metadata": {},
   "source": [
    "The unnamed column has been dropped."
   ]
  },
  {
   "cell_type": "code",
   "execution_count": 14,
   "id": "22ac5746",
   "metadata": {},
   "outputs": [
    {
     "name": "stdout",
     "output_type": "stream",
     "text": [
      "<class 'pandas.core.frame.DataFrame'>\n",
      "RangeIndex: 330 entries, 0 to 329\n",
      "Data columns (total 7 columns):\n",
      " #   Column         Non-Null Count  Dtype  \n",
      "---  ------         --------------  -----  \n",
      " 0   year           330 non-null    int64  \n",
      " 1   price          321 non-null    float64\n",
      " 2   ranks          330 non-null    int64  \n",
      " 3   title          329 non-null    object \n",
      " 4   no_of_reviews  330 non-null    object \n",
      " 5   ratings        330 non-null    float64\n",
      " 6   author         288 non-null    object \n",
      "dtypes: float64(2), int64(2), object(3)\n",
      "memory usage: 18.2+ KB\n"
     ]
    }
   ],
   "source": [
    "df.info()"
   ]
  },
  {
   "cell_type": "code",
   "execution_count": 15,
   "id": "539a07ce",
   "metadata": {},
   "outputs": [
    {
     "data": {
      "text/plain": [
       "year             False\n",
       "price             True\n",
       "ranks            False\n",
       "title             True\n",
       "no_of_reviews    False\n",
       "ratings          False\n",
       "author            True\n",
       "dtype: bool"
      ]
     },
     "execution_count": 15,
     "metadata": {},
     "output_type": "execute_result"
    }
   ],
   "source": [
    "df.isna().any()"
   ]
  },
  {
   "cell_type": "markdown",
   "id": "f0b20745",
   "metadata": {},
   "source": [
    "There are some null values is the price, title and author columns."
   ]
  },
  {
   "cell_type": "code",
   "execution_count": 16,
   "id": "77709fee",
   "metadata": {
    "scrolled": true
   },
   "outputs": [
    {
     "data": {
      "text/plain": [
       "140"
      ]
     },
     "execution_count": 16,
     "metadata": {},
     "output_type": "execute_result"
    }
   ],
   "source": [
    "df['author'].nunique()"
   ]
  },
  {
   "cell_type": "markdown",
   "id": "736bea6c",
   "metadata": {},
   "source": [
    "There are 140 distinct authors in the dataset. This could mean that some authors made it to the top 30 more that once over the course of the 11 years and/or records for some authors are missing."
   ]
  },
  {
   "cell_type": "code",
   "execution_count": 17,
   "id": "e3d76987",
   "metadata": {},
   "outputs": [
    {
     "data": {
      "text/html": [
       "<div>\n",
       "<style scoped>\n",
       "    .dataframe tbody tr th:only-of-type {\n",
       "        vertical-align: middle;\n",
       "    }\n",
       "\n",
       "    .dataframe tbody tr th {\n",
       "        vertical-align: top;\n",
       "    }\n",
       "\n",
       "    .dataframe thead th {\n",
       "        text-align: right;\n",
       "    }\n",
       "</style>\n",
       "<table border=\"1\" class=\"dataframe\">\n",
       "  <thead>\n",
       "    <tr style=\"text-align: right;\">\n",
       "      <th></th>\n",
       "      <th>year</th>\n",
       "      <th>price</th>\n",
       "      <th>ranks</th>\n",
       "      <th>title</th>\n",
       "      <th>no_of_reviews</th>\n",
       "      <th>ratings</th>\n",
       "      <th>author</th>\n",
       "    </tr>\n",
       "  </thead>\n",
       "  <tbody>\n",
       "    <tr>\n",
       "      <th>0</th>\n",
       "      <td>2009</td>\n",
       "      <td>14.71</td>\n",
       "      <td>1</td>\n",
       "      <td>The Lost Symbol</td>\n",
       "      <td>16,136</td>\n",
       "      <td>4.4</td>\n",
       "      <td>Dan Brown</td>\n",
       "    </tr>\n",
       "    <tr>\n",
       "      <th>1</th>\n",
       "      <td>2009</td>\n",
       "      <td>10.04</td>\n",
       "      <td>2</td>\n",
       "      <td>The Shack: Where Tragedy Confronts Eternity</td>\n",
       "      <td>23,402</td>\n",
       "      <td>4.7</td>\n",
       "      <td>William P. Young</td>\n",
       "    </tr>\n",
       "    <tr>\n",
       "      <th>2</th>\n",
       "      <td>2009</td>\n",
       "      <td>14.98</td>\n",
       "      <td>3</td>\n",
       "      <td>Liberty and Tyranny: A Conservative Manifesto</td>\n",
       "      <td>5,037</td>\n",
       "      <td>4.8</td>\n",
       "      <td>Mark R. Levin</td>\n",
       "    </tr>\n",
       "    <tr>\n",
       "      <th>3</th>\n",
       "      <td>2009</td>\n",
       "      <td>14.30</td>\n",
       "      <td>4</td>\n",
       "      <td>Breaking Dawn (The Twilight Saga, Book 4)</td>\n",
       "      <td>16,930</td>\n",
       "      <td>4.7</td>\n",
       "      <td>Stephenie Meyer</td>\n",
       "    </tr>\n",
       "    <tr>\n",
       "      <th>4</th>\n",
       "      <td>2009</td>\n",
       "      <td>10.00</td>\n",
       "      <td>5</td>\n",
       "      <td>Going Rogue: An American Life</td>\n",
       "      <td>1,572</td>\n",
       "      <td>4.6</td>\n",
       "      <td>Sarah Palin</td>\n",
       "    </tr>\n",
       "    <tr>\n",
       "      <th>...</th>\n",
       "      <td>...</td>\n",
       "      <td>...</td>\n",
       "      <td>...</td>\n",
       "      <td>...</td>\n",
       "      <td>...</td>\n",
       "      <td>...</td>\n",
       "      <td>...</td>\n",
       "    </tr>\n",
       "    <tr>\n",
       "      <th>325</th>\n",
       "      <td>2019</td>\n",
       "      <td>17.44</td>\n",
       "      <td>26</td>\n",
       "      <td>Howard Stern Comes Again</td>\n",
       "      <td>7,962</td>\n",
       "      <td>4.5</td>\n",
       "      <td>Howard Stern</td>\n",
       "    </tr>\n",
       "    <tr>\n",
       "      <th>326</th>\n",
       "      <td>2019</td>\n",
       "      <td>5.90</td>\n",
       "      <td>27</td>\n",
       "      <td>Guts: A Graphic Novel</td>\n",
       "      <td>13,995</td>\n",
       "      <td>4.8</td>\n",
       "      <td>Raina Telgemeier</td>\n",
       "    </tr>\n",
       "    <tr>\n",
       "      <th>327</th>\n",
       "      <td>2019</td>\n",
       "      <td>8.32</td>\n",
       "      <td>28</td>\n",
       "      <td>The Life-Changing Magic of Tidying Up: The Jap...</td>\n",
       "      <td>Marie Kondō</td>\n",
       "      <td>4.5</td>\n",
       "      <td>NaN</td>\n",
       "    </tr>\n",
       "    <tr>\n",
       "      <th>328</th>\n",
       "      <td>2019</td>\n",
       "      <td>21.52</td>\n",
       "      <td>29</td>\n",
       "      <td>Harry Potter and the Goblet of Fire: The Illus...</td>\n",
       "      <td>24,906</td>\n",
       "      <td>4.9</td>\n",
       "      <td>J. K. Rowling</td>\n",
       "    </tr>\n",
       "    <tr>\n",
       "      <th>329</th>\n",
       "      <td>2019</td>\n",
       "      <td>8.72</td>\n",
       "      <td>30</td>\n",
       "      <td>National Geographic Little Kids First Big Book...</td>\n",
       "      <td>17,854</td>\n",
       "      <td>4.8</td>\n",
       "      <td>Amy Shields</td>\n",
       "    </tr>\n",
       "  </tbody>\n",
       "</table>\n",
       "<p>330 rows × 7 columns</p>\n",
       "</div>"
      ],
      "text/plain": [
       "     year  price  ranks                                              title  \\\n",
       "0    2009  14.71      1                                    The Lost Symbol   \n",
       "1    2009  10.04      2        The Shack: Where Tragedy Confronts Eternity   \n",
       "2    2009  14.98      3      Liberty and Tyranny: A Conservative Manifesto   \n",
       "3    2009  14.30      4          Breaking Dawn (The Twilight Saga, Book 4)   \n",
       "4    2009  10.00      5                      Going Rogue: An American Life   \n",
       "..    ...    ...    ...                                                ...   \n",
       "325  2019  17.44     26                           Howard Stern Comes Again   \n",
       "326  2019   5.90     27                              Guts: A Graphic Novel   \n",
       "327  2019   8.32     28  The Life-Changing Magic of Tidying Up: The Jap...   \n",
       "328  2019  21.52     29  Harry Potter and the Goblet of Fire: The Illus...   \n",
       "329  2019   8.72     30  National Geographic Little Kids First Big Book...   \n",
       "\n",
       "    no_of_reviews  ratings            author  \n",
       "0          16,136      4.4         Dan Brown  \n",
       "1          23,402      4.7  William P. Young  \n",
       "2           5,037      4.8     Mark R. Levin  \n",
       "3          16,930      4.7   Stephenie Meyer  \n",
       "4           1,572      4.6       Sarah Palin  \n",
       "..            ...      ...               ...  \n",
       "325         7,962      4.5      Howard Stern  \n",
       "326        13,995      4.8  Raina Telgemeier  \n",
       "327   Marie Kondō      4.5               NaN  \n",
       "328        24,906      4.9     J. K. Rowling  \n",
       "329        17,854      4.8       Amy Shields  \n",
       "\n",
       "[330 rows x 7 columns]"
      ]
     },
     "execution_count": 17,
     "metadata": {},
     "output_type": "execute_result"
    }
   ],
   "source": [
    "df['no_of_reviews'] = df['no_of_reviews'].replace(',', '')\n",
    "df"
   ]
  },
  {
   "cell_type": "markdown",
   "id": "0db53af9",
   "metadata": {},
   "source": [
    "So let's get some insights from the dataset."
   ]
  },
  {
   "cell_type": "code",
   "execution_count": 18,
   "id": "52d69497",
   "metadata": {
    "scrolled": true
   },
   "outputs": [
    {
     "name": "stdout",
     "output_type": "stream",
     "text": [
      "year\n",
      "2009    4.613333\n",
      "2010    4.596667\n",
      "2011    4.630000\n",
      "2012    4.540000\n",
      "2013    4.576667\n",
      "2014    4.656667\n",
      "2015    4.616667\n",
      "2016    4.656667\n",
      "2017    4.653333\n",
      "2018    4.693333\n",
      "2019    4.776667\n",
      "Name: ratings, dtype: float64\n"
     ]
    }
   ],
   "source": [
    "viz1 = df.groupby('year')['ratings'].mean()\n",
    "print(viz1)"
   ]
  },
  {
   "cell_type": "markdown",
   "id": "1e1f9575",
   "metadata": {},
   "source": [
    "We can see that there is an overall increase in the average rating from 2009 to 2019, although, there was some slight fluctuations along the line. "
   ]
  },
  {
   "cell_type": "code",
   "execution_count": 19,
   "id": "ca5df54c",
   "metadata": {},
   "outputs": [
    {
     "data": {
      "image/png": "[encoded data removed]",
      "text/plain": [
       "<Figure size 1080x360 with 1 Axes>"
      ]
     },
     "metadata": {
      "needs_background": "light"
     },
     "output_type": "display_data"
    }
   ],
   "source": [
    "viz1.plot(kind='barh',title='Average Rating Over The Years', color='pink', figsize=[15,5]);"
   ]
  },
  {
   "cell_type": "code",
   "execution_count": 20,
   "id": "14023bf7",
   "metadata": {},
   "outputs": [
    {
     "name": "stdout",
     "output_type": "stream",
     "text": [
      "year\n",
      "2009    19.492069\n",
      "2010    15.163667\n",
      "2011    17.673000\n",
      "2012    18.001667\n",
      "2013    21.214286\n",
      "2014    18.619231\n",
      "2015    10.540000\n",
      "2016    10.797241\n",
      "2017    10.102414\n",
      "2018    11.457667\n",
      "2019    10.445333\n",
      "Name: price, dtype: float64\n"
     ]
    }
   ],
   "source": [
    "viz2 = df.groupby('year')['price'].mean()\n",
    "print(viz2)"
   ]
  },
  {
   "cell_type": "markdown",
   "id": "d3e3177f",
   "metadata": {},
   "source": [
    "The change in price over the years does not follow a regular pattern but there was a drastic decrease in the average price from 2009 to 2019. The highest average price of books was seen in 2013."
   ]
  },
  {
   "cell_type": "code",
   "execution_count": 21,
   "id": "802d2b77",
   "metadata": {},
   "outputs": [
    {
     "data": {
      "image/png": "[encoded data removed]",
      "text/plain": [
       "<Figure size 1080x360 with 1 Axes>"
      ]
     },
     "metadata": {
      "needs_background": "light"
     },
     "output_type": "display_data"
    }
   ],
   "source": [
    "viz2.plot(kind='barh',title='Average Price Over The Years', color='green', figsize=[15,5]);"
   ]
  },
  {
   "cell_type": "code",
   "execution_count": 22,
   "id": "16590e0b",
   "metadata": {},
   "outputs": [
    {
     "name": "stdout",
     "output_type": "stream",
     "text": [
      "author\n",
      "Eric Carle        4.900000\n",
      "Rush Limbaugh     4.900000\n",
      "Dav Pilkey        4.900000\n",
      "Deborah Diesen    4.900000\n",
      "Sarah Young       4.900000\n",
      "                    ...   \n",
      "Michael Wolff     4.200000\n",
      "J.K. Rowling      4.133333\n",
      "Gillian Flynn     4.100000\n",
      "Paula Hawkins     4.100000\n",
      "Donna Tartt       4.000000\n",
      "Name: ratings, Length: 140, dtype: float64\n"
     ]
    }
   ],
   "source": [
    "viz3 = df.groupby('author')['ratings'].mean().sort_values(ascending= False)\n",
    "print(viz3)"
   ]
  },
  {
   "cell_type": "markdown",
   "id": "ad9a4585",
   "metadata": {},
   "source": [
    "The above result asserts that the highest rating is 4.9 and the least rating of books that made it to the top 30 is 4.0"
   ]
  },
  {
   "cell_type": "code",
   "execution_count": 23,
   "id": "2fc6ccb4",
   "metadata": {
    "scrolled": false
   },
   "outputs": [
    {
     "name": "stdout",
     "output_type": "stream",
     "text": [
      "author\n",
      "Alice Schertle           4.900000\n",
      "Dav Pilkey               4.900000\n",
      "Deborah Diesen           4.900000\n",
      "Dr. Seuss                4.900000\n",
      "Emily Winfield Martin    4.900000\n",
      "Eric Carle               4.900000\n",
      "J. K. Rowling            4.900000\n",
      "Jill Twiss               4.900000\n",
      "Lin-Manuel Miranda       4.900000\n",
      "Rush Limbaugh            4.900000\n",
      "Sarah Young              4.900000\n",
      "Mark R. Levin            4.850000\n",
      "Brandon Stanton          4.833333\n",
      "Adam Mansbach            4.800000\n",
      "Adir Levy                4.800000\n",
      "Name: ratings, dtype: float64\n"
     ]
    }
   ],
   "source": [
    "viz3 = df.groupby('author')['ratings'].mean().nlargest(15)\n",
    "print(viz3)"
   ]
  },
  {
   "cell_type": "code",
   "execution_count": 24,
   "id": "f7eeaceb",
   "metadata": {
    "scrolled": true
   },
   "outputs": [
    {
     "name": "stdout",
     "output_type": "stream",
     "text": [
      "title\n",
      "D&D Player’s Handbook (Dungeons & Dragons Core Rulebook)                                                                   4.9\n",
      "Dog Man: Brawl of the Wild: From the Creator of Captain Underpants (Dog Man #6)                                            4.9\n",
      "Dog Man: Fetch-22: From the Creator of Captain Underpants (Dog Man #8)                                                     4.9\n",
      "Dog Man: For Whom the Ball Rolls: From the Creator of Captain Underpants (Dog Man #7)                                      4.9\n",
      "Dog Man: Lord of the Fleas: From the Creator of Captain Underpants (Dog Man #5)                                            4.9\n",
      "Hamilton: The Revolution                                                                                                   4.9\n",
      "Harry Potter and the Goblet of Fire: The Illustrated Edition (Harry Potter, Book 4) (Illustrated edition) (4)              4.9\n",
      "Humans of New York : Stories                                                                                               4.9\n",
      "Jesus Calling, Padded Hardcover, with Scripture references                                                                 4.9\n",
      "Last Week Tonight with John Oliver Presents A Day in the Life of Marlon Bundo (Better Bundo Book, LGBT Children’s Book)    4.9\n",
      "Little Blue Truck                                                                                                          4.9\n",
      "Oh, the Places You'll Go!                                                                                                  4.9\n",
      "Rush Revere and the Brave Pilgrims: Time-Travel Adventures with Exceptional Americans (1)                                  4.9\n",
      "Rush Revere and the First Patriots: Time-Travel Adventures With Exceptional Americans (2)                                  4.9\n",
      "The Legend of Zelda: Hyrule Historia                                                                                       4.9\n",
      "The Pout-Pout Fish                                                                                                         4.9\n",
      "The Very Hungry Caterpillar                                                                                                4.9\n",
      "The Wonderful Things You Will Be                                                                                           4.9\n",
      "Unfreedom of the Press                                                                                                     4.9\n",
      "Wrecking Ball (Diary of a Wimpy Kid Book 14)                                                                               4.9\n",
      "12 Rules for Life: An Antidote to Chaos                                                                                    4.8\n",
      "Alexander Hamilton                                                                                                         4.8\n",
      "Barefoot Contessa Foolproof: Recipes You Can Trust: A Cookbook                                                             4.8\n",
      "Becoming                                                                                                                   4.8\n",
      "Cabin Fever (Diary of a Wimpy Kid, Book 6)                                                                                 4.8\n",
      "Name: ratings, dtype: float64\n"
     ]
    }
   ],
   "source": [
    "viz4 = df.groupby('title')['ratings'].mean().nlargest(25)\n",
    "print(viz4)"
   ]
  },
  {
   "cell_type": "code",
   "execution_count": 26,
   "id": "a99404bf",
   "metadata": {},
   "outputs": [
    {
     "name": "stdout",
     "output_type": "stream",
     "text": [
      "title\n",
      "The Casual Vacancy                                                                              3.4\n",
      "Go Set a Watchman: A Novel                                                                      3.7\n",
      "Allegiant                                                                                       3.9\n",
      "Fifty Shades Of Grey: Book One of the Fifty Shades Trilogy (Fifty Shades Of Grey Series, 1)     4.0\n",
      "The Goldfinch: A Novel (Pulitzer Prize for Fiction)                                             4.0\n",
      "Gone Girl                                                                                       4.1\n",
      "StrengthsFinder 2.0                                                                             4.1\n",
      "The Girl on the Train                                                                           4.1\n",
      "Fire and Fury: Inside the Trump White House                                                     4.2\n",
      "Inferno                                                                                         4.2\n",
      "Harry Potter and the Cursed Child, Parts 1 & 2, Special Rehearsal Edition Script                4.3\n",
      "The 17 Day Diet: A Doctor's Plan Designed for Rapid Results                                     4.3\n",
      "The Complete Ketogenic Diet for Beginners: Your Essential Guide to Living the Keto Lifestyle    4.3\n",
      "Tina Fey: Bossypants                                                                            4.3\n",
      "And the Mountains Echoed                                                                        4.4\n",
      "Autobiography of Mark Twain, Vol. 1                                                             4.4\n",
      "Crazy Rich Asians (Crazy Rich Asians Trilogy)                                                   4.4\n",
      "Origin: A Novel (Robert Langdon)                                                                4.4\n",
      "Proof of Heaven: A Neurosurgeon's Journey into the Afterlife                                    4.4\n",
      "The 4 Hour Body: An Uncommon Guide to Rapid Fat Loss, Incredible Sex and Becoming Superhuman    4.4\n",
      "The Handmaid's Tale                                                                             4.4\n",
      "The Instant Pot Electric Pressure Cooker Cookbook: Easy Recipes for Fast & Healthy Meals        4.4\n",
      "The Lost Symbol                                                                                 4.4\n",
      "The Official SAT Study Guide                                                                    4.4\n",
      "The Official SAT Study Guide, 2016 Edition                                                      4.4\n",
      "Name: ratings, dtype: float64\n"
     ]
    }
   ],
   "source": [
    "viz5 = df.groupby('title')['ratings'].mean().nsmallest(25)\n",
    "print(viz5)"
   ]
  },
  {
   "cell_type": "code",
   "execution_count": 27,
   "id": "91aea68c",
   "metadata": {
    "scrolled": true
   },
   "outputs": [
    {
     "name": "stdout",
     "output_type": "stream",
     "text": [
      "author                              title                                                                            \n",
      "Dr. Seuss                           Oh, the Places You'll Go!                                                            7\n",
      "American Psychological Association  Publication Manual of the American Psychological Association, 6th Edition            6\n",
      "Gary Chapman                        The 5 Love Languages: The Secret to Love that Lasts                                  5\n",
      "Don Miguel Ruiz                     The Four Agreements: A Practical Guide to Personal Freedom (A Toltec Wisdom Book)    4\n",
      "Gary Chapman                        The 5 Love Languages: The Secret to Love That Lasts                                  4\n",
      "Giles Andreae                       Giraffes Can't Dance                                                                 4\n",
      "Laura Hillenbrand                   Unbroken: A World War II Story of Survival, Resilience, and Redemption               4\n",
      "Rob Elliott                         Laugh-Out-Loud Jokes for Kids                                                        4\n",
      "Roger Priddy                        First 100 Words: A Padded Board Book                                                 4\n",
      "Sarah Young                         Jesus Calling, Padded Hardcover, with Scripture references                           4\n",
      "Name: title, dtype: int64\n"
     ]
    }
   ],
   "source": [
    "viz6 = df.groupby('author')['title'].value_counts().nlargest(10)\n",
    "print(viz6)"
   ]
  },
  {
   "cell_type": "markdown",
   "id": "b1f89ec0",
   "metadata": {},
   "source": [
    "Dr Seuss' Oh, the Places You'll Go! made it to the top 30 list seven(7) times, the book must be really worth it, you should check it out.\n",
    "Other books that made it to the top 30 list frequently and their authors can be seen above."
   ]
  },
  {
   "cell_type": "code",
   "execution_count": 28,
   "id": "b5554f12",
   "metadata": {
    "scrolled": true
   },
   "outputs": [
    {
     "data": {
      "image/png": "[encoded data removed]",
      "text/plain": [
       "<Figure size 432x288 with 1 Axes>"
      ]
     },
     "metadata": {
      "needs_background": "light"
     },
     "output_type": "display_data"
    }
   ],
   "source": [
    "viz6.plot(kind='barh',title='Authors with the highest number of books published', color='blue');"
   ]
  },
  {
   "cell_type": "code",
   "execution_count": 29,
   "id": "136173a2",
   "metadata": {
    "scrolled": false
   },
   "outputs": [
    {
     "name": "stdout",
     "output_type": "stream",
     "text": [
      "StrengthsFinder 2.0                                                                  9\n",
      "Oh, the Places You'll Go!                                                            7\n",
      "Publication Manual of the American Psychological Association, 6th Edition            6\n",
      "The 5 Love Languages: The Secret to Love that Lasts                                  5\n",
      "The Official SAT Study Guide                                                         5\n",
      "The Four Agreements: A Practical Guide to Personal Freedom (A Toltec Wisdom Book)    4\n",
      "Unbroken: A World War II Story of Survival, Resilience, and Redemption               4\n",
      "The 5 Love Languages: The Secret to Love That Lasts                                  4\n",
      "Laugh-Out-Loud Jokes for Kids                                                        4\n",
      "First 100 Words: A Padded Board Book                                                 4\n",
      "Name: title, dtype: int64\n"
     ]
    }
   ],
   "source": [
    "viz7 = df['title'].value_counts().nlargest(10)\n",
    "print(viz7)"
   ]
  },
  {
   "cell_type": "markdown",
   "id": "93a6a6b3",
   "metadata": {},
   "source": [
    "There's another book that has the most occurrence over the years. But the author is not known, that is why it didn't show up in the first list."
   ]
  },
  {
   "cell_type": "code",
   "execution_count": 30,
   "id": "888ff893",
   "metadata": {
    "scrolled": true
   },
   "outputs": [
    {
     "data": {
      "image/png": "[encoded data removed]",
      "text/plain": [
       "<Figure size 432x288 with 1 Axes>"
      ]
     },
     "metadata": {
      "needs_background": "light"
     },
     "output_type": "display_data"
    }
   ],
   "source": [
    "viz7.plot(kind='barh',title='Frequently published books', color='yellow');"
   ]
  },
  {
   "cell_type": "code",
   "execution_count": 31,
   "id": "b07d4e76",
   "metadata": {
    "scrolled": true
   },
   "outputs": [
    {
     "name": "stdout",
     "output_type": "stream",
     "text": [
      "title\n",
      "Diagnostic and Statistical Manual of Mental Disorders, 5th Edition: DSM-5                            144.99\n",
      "Sookie Stackhouse                                                                                     82.03\n",
      "The Twilight Saga Collection                                                                          59.23\n",
      "Game of Thrones Boxed Set: A Game of Thrones/A Clash of Kings/A Storm of Swords/A Feast for Crows     54.98\n",
      "The Official SAT Study Guide                                                                          41.47\n",
      "The Hunger Games Trilogy Boxed Set                                                                    40.59\n",
      "The Legend of Zelda: Hyrule Historia                                                                  32.00\n",
      "Under the Dome: A Novel                                                                               30.46\n",
      "Mastering the Art of French Cooking, Volume I: 50th Anniversary Edition: A Cookbook                   28.49\n",
      "Fear: Trump in the White House                                                                        27.59\n",
      "Eclipse (Twilight Sagas)                                                                              24.98\n",
      "Thinking, Fast and Slow                                                                               24.49\n",
      "A Dance with Dragons (A Song of Ice and Fire)                                                         24.31\n",
      "The 5 Love Languages: The Secret to Love That Lasts                                                   23.99\n",
      "Hamilton: The Revolution                                                                              23.69\n",
      "Name: price, dtype: float64\n"
     ]
    }
   ],
   "source": [
    "viz8 = df.groupby('title')['price'].mean().nlargest(15)\n",
    "print(viz8)"
   ]
  },
  {
   "cell_type": "markdown",
   "id": "09e39e17",
   "metadata": {},
   "source": [
    "The book titled 'Diagnostic and Statistical Manual of Mental Disorders, 5th Edition: DSM-5' has the highest average price."
   ]
  },
  {
   "cell_type": "code",
   "execution_count": 32,
   "id": "5061bfde",
   "metadata": {
    "scrolled": true
   },
   "outputs": [
    {
     "data": {
      "image/png": "[encoded data removed]",
      "text/plain": [
       "<Figure size 432x288 with 1 Axes>"
      ]
     },
     "metadata": {
      "needs_background": "light"
     },
     "output_type": "display_data"
    }
   ],
   "source": [
    "viz8.plot(kind='barh',title='Highest selling books', color='purple');"
   ]
  },
  {
   "cell_type": "code",
   "execution_count": 33,
   "id": "44709ba0",
   "metadata": {},
   "outputs": [
    {
     "name": "stdout",
     "output_type": "stream",
     "text": [
      "title\n",
      "The Going-To-Bed Book                                                                                                  3.97\n",
      "If Animals Kissed Good Night                                                                                           4.14\n",
      "Knock-Knock Jokes for Kids (Laugh-Out-Loud Jokes for Kids)                                                             4.44\n",
      "First 100 Words: A Padded Board Book                                                                                   4.78\n",
      "The Very Hungry Caterpillar                                                                                            4.93\n",
      "Laugh-Out-Loud Jokes for Kids                                                                                          4.99\n",
      "Dear Zoo: A Lift-the-Flap Book                                                                                         5.00\n",
      "The Pout-Pout Fish                                                                                                     5.00\n",
      "The Wonky Donkey                                                                                                       5.28\n",
      "Creative Haven Owls Coloring Book (Adult Coloring)                                                                     5.38\n",
      "P is for Potty! (Sesame Street) (Lift-the-Flap)                                                                        5.72\n",
      "A Higher Loyalty: Truth, Lies, and Leadership                                                                          5.84\n",
      "Guts: A Graphic Novel                                                                                                  5.90\n",
      "Creative Haven Creative Cats Coloring Book (Adult Coloring)                                                            5.99\n",
      "Difficult Riddles For Smart Kids: 300 Difficult Riddles And Brain Teasers Families Will Love (Books for Smart Kids)    5.99\n",
      "Name: price, dtype: float64\n"
     ]
    }
   ],
   "source": [
    "viz9 = df.groupby('title')['price'].mean().nsmallest(15)\n",
    "print(viz9)"
   ]
  },
  {
   "cell_type": "markdown",
   "id": "8ead998e",
   "metadata": {},
   "source": [
    "The book titled 'Wheat Belly: Lose the Wheat, Lose the Weight, and Find Your Path Back to Health' has the least average price in the dataset."
   ]
  },
  {
   "cell_type": "code",
   "execution_count": 34,
   "id": "3718ea51",
   "metadata": {},
   "outputs": [
    {
     "data": {
      "image/png": "[encoded data removed]",
      "text/plain": [
       "<Figure size 432x288 with 1 Axes>"
      ]
     },
     "metadata": {
      "needs_background": "light"
     },
     "output_type": "display_data"
    }
   ],
   "source": [
    "viz9.plot(kind='barh',title='Lowest priced books');"
   ]
  },
  {
   "cell_type": "markdown",
   "id": "514f330a",
   "metadata": {},
   "source": [
    "With the few visualizations and insights above, we've been able to establish some facts and figures from the dataset such as; \n",
    "> Average book ratings \n",
    ">\n",
    "> Average price\n",
    ">\n",
    "> Authors with the highest and lowest ratings\n",
    ">\n",
    "> Books with the highest and lowest ratings\n",
    ">\n",
    "> Books and authors that frequently made it to the top 30 list\n",
    ">\n",
    "> Books with the higesht and lowest average price."
   ]
  }
 ],
 "metadata": {
  "kernelspec": {
   "display_name": "Python 3 (ipykernel)",
   "language": "python",
   "name": "python3"
  },
  "language_info": {
   "codemirror_mode": {
    "name": "ipython",
    "version": 3
   },
   "file_extension": ".py",
   "mimetype": "text/x-python",
   "name": "python",
   "nbconvert_exporter": "python",
   "pygments_lexer": "ipython3",
   "version": "3.9.12"
  }
 },
 "nbformat": 4,
 "nbformat_minor": 5
}
